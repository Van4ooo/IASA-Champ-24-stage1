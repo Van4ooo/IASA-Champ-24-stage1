{
 "cells": [
  {
   "cell_type": "code",
   "execution_count": 8,
   "id": "initial_id",
   "metadata": {
    "ExecuteTime": {
     "end_time": "2024-01-27T15:55:35.102755600Z",
     "start_time": "2024-01-27T15:55:35.095046100Z"
    }
   },
   "outputs": [],
   "source": [
    "import os\n",
    "import pandas as pd\n",
    "import numpy as np\n",
    "from IPython.display import Image\n",
    "import matplotlib as plt\n",
    "import cv2"
   ]
  },
  {
   "cell_type": "code",
   "execution_count": 9,
   "id": "c4dc4d1a177e11fe",
   "metadata": {
    "collapsed": false,
    "ExecuteTime": {
     "end_time": "2024-01-27T15:55:35.925604400Z",
     "start_time": "2024-01-27T15:55:35.917397800Z"
    }
   },
   "outputs": [],
   "source": [
    "categories_code = {'alert': 0,\n",
    " 'button': 1,\n",
    " 'card': 2,\n",
    " 'checkbox_checked': 3,\n",
    " 'checkbox_unchecked': 4,\n",
    " 'chip': 5,\n",
    " 'data_table': 6,\n",
    " 'dropdown_menu': 7,\n",
    " 'floating_action_button': 8,\n",
    " 'grid_list': 9,\n",
    " 'image': 10,\n",
    " 'label': 11,\n",
    " 'menu': 12,\n",
    " 'radio_button_checked': 13,\n",
    " 'radio_button_unchecked': 14,\n",
    " 'slider': 15,\n",
    " 'switch_disabled': 16,\n",
    " 'switch_enabled': 17,\n",
    " 'text_area': 18,\n",
    " 'text_field': 19,\n",
    " 'tooltip': 20}"
   ]
  },
  {
   "cell_type": "code",
   "execution_count": 12,
   "id": "87160dd55a5251ad",
   "metadata": {
    "collapsed": false,
    "ExecuteTime": {
     "end_time": "2024-01-27T15:58:05.436397100Z",
     "start_time": "2024-01-27T15:57:49.621523500Z"
    }
   },
   "outputs": [],
   "source": [
    "def create_dataframe(category):\n",
    " df = pd.DataFrame(columns = ['ID', 'IMG', 'IMG_TO_PXL_AR', 'CATEGORY', 'CODE'])\n",
    " for img in os.listdir(f'D:/HyperCrew_projects/IASA-Champ-24-stage1/data/raw/train/{category}'):\n",
    "  pxl = np.array(cv2.imread(f'D:/HyperCrew_projects/IASA-Champ-24-stage1/data/raw/train/{category}/{img}', 0)).reshape(1, 50176)\n",
    "  df.loc[len(df.index)] = [len(df.index), img, pxl, category, categories_code[category]]\n",
    " df.to_csv(f'D:/HyperCrew_projects/IASA-Champ-24-stage1/data/processed/{category}.csv')\n",
    "for (i, v) in categories_code.items():\n",
    "    create_dataframe(i)"
   ]
  },
  {
   "cell_type": "code",
   "outputs": [],
   "source": [],
   "metadata": {
    "collapsed": false
   },
   "id": "9d769436ddad6f22"
  },
  {
   "cell_type": "markdown",
   "id": "88b5fa050c1597d4",
   "metadata": {
    "collapsed": false
   },
   "source": []
  },
  {
   "cell_type": "code",
   "execution_count": null,
   "id": "82e3b68b766aecc0",
   "metadata": {
    "collapsed": false,
    "is_executing": true
   },
   "outputs": [],
   "source": []
  },
  {
   "cell_type": "code",
   "execution_count": null,
   "id": "dd2c41a90853cfaa",
   "metadata": {
    "collapsed": false
   },
   "outputs": [],
   "source": []
  }
 ],
 "metadata": {
  "kernelspec": {
   "display_name": "Python 3 (ipykernel)",
   "language": "python",
   "name": "python3"
  },
  "language_info": {
   "codemirror_mode": {
    "name": "ipython",
    "version": 3
   },
   "file_extension": ".py",
   "mimetype": "text/x-python",
   "name": "python",
   "nbconvert_exporter": "python",
   "pygments_lexer": "ipython3",
   "version": "3.12.1"
  }
 },
 "nbformat": 4,
 "nbformat_minor": 5
}

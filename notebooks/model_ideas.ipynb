{
 "cells": [
  {
   "cell_type": "code",
   "outputs": [],
   "source": [
    "from tensorflow.keras.utils import to_categorical\n",
    "\n",
    "import matplotlib.pyplot as plt \n",
    "import numpy as np\n",
    "import cv2\n",
    "\n",
    "CATEGORIES = {\n",
    "    'alert': 0, 'button': 1, 'card': 2, 'checkbox_checked': 3,\n",
    "    'checkbox_unchecked': 4, 'chip': 5, 'data_table': 6, 'dropdown_menu': 7,\n",
    "    'floating_action_button': 8, 'grid_list': 9, 'image': 10, 'label': 11,\n",
    "    'menu': 12, 'radio_button_checked': 13, 'radio_button_unchecked': 14, \n",
    "    'slider': 15, 'switch_disabled': 16, 'switch_enabled': 17, \n",
    "    'text_area': 18, 'text_field': 19, 'tooltip': 20\n",
    "}\n",
    "COUNT = CATEGORIES.__len__()"
   ],
   "metadata": {
    "collapsed": false
   },
   "id": "6f80850071ca8b25",
   "execution_count": null
  },
  {
   "cell_type": "code",
   "outputs": [],
   "source": [
    "class InputDate:\n",
    "    __slots__ = ['images', '__index', 'labels', '_size']\n",
    "    shape = (224, 224, 1)\n",
    "    \n",
    "    def __init__(self, _size: int) -> None:\n",
    "        self.images = np.empty((_size, 224, 224, 1), dtype='float16')\n",
    "        self.labels = np.empty(_size, dtype='uint8')\n",
    "        \n",
    "        self.__index = 0\n",
    "        self._size = _size\n",
    "    \n",
    "    def add_img(self, _path: str, _cat: str) -> None:\n",
    "        img = cv2.imread(_path, cv2.IMREAD_GRAYSCALE)\n",
    "        img = cv2.bitwise_not(img)\n",
    "        \n",
    "        self.images[self.__index] = \\\n",
    "            np.asarray(img).astype('float32').reshape(self.shape) / 255\n",
    "        self.labels[self.__index] = CATEGORIES[_cat]\n",
    "        self.__index += 1\n",
    "        \n",
    "        if self.__index == self._size:\n",
    "            self.__done()\n",
    "    \n",
    "    def __done(self):\n",
    "        self.labels = to_categorical(self.labels)\n",
    "    \n",
    "    def show(self, _i: int) -> None:\n",
    "        plt.imshow(self.images[_i], cmap='gray')"
   ],
   "metadata": {
    "collapsed": false
   },
   "id": "b3915ee598f1666e",
   "execution_count": null
  },
  {
   "cell_type": "code",
   "outputs": [],
   "source": [
    "img_list = ['test_img.jpg', 'test_2.jpg']\n",
    "cat_list = ['button', 'alert']\n",
    "\n",
    "train = InputDate(img_list.__len__())\n",
    "for path, cat in zip(img_list, cat_list):\n",
    "    train.add_img(path, cat)\n",
    "    \n",
    "train.show(1)\n",
    "train.labels"
   ],
   "metadata": {
    "collapsed": false
   },
   "id": "f2f74259a73bc793",
   "execution_count": null
  },
  {
   "cell_type": "code",
   "outputs": [],
   "source": [
    "from tensorflow.keras import layers, models\n",
    "\n",
    "h_activ, f_activ = 'relu', 'softmax'\n",
    "kernel_s, pool_s = (3, 3), (2, 2)\n",
    "\n",
    "model = models.Sequential()\n",
    "model.add(layers.Conv2D(32, kernel_s, activation=h_activ, input_shape=train.shape))\n",
    "model.add(layers.MaxPooling2D(pool_size=pool_s))\n",
    "model.add(layers.Conv2D(64, kernel_s, activation=h_activ))\n",
    "model.add(layers.MaxPooling2D(pool_size=pool_s))\n",
    "model.add(layers.Conv2D(64, kernel_s, activation=h_activ))\n",
    "model.add(layers.Flatten())\n",
    "model.add(layers.Dense(64, activation=h_activ))\n",
    "model.add(layers.Dense(COUNT, activation=f_activ))\n",
    "\n",
    "model.compile(optimizer='adam', loss='categorical_crossentropy', metrics=['accuracy'])\n",
    "\n",
    "model.fit(train.images, train.labels, epochs=COUNT, batch_size=64, validation_split=0.2)\n",
    "model.save('model_v0.1.h5')"
   ],
   "metadata": {
    "collapsed": false
   },
   "id": "251582f2630fc789"
  },
  {
   "cell_type": "code",
   "outputs": [],
   "source": [
    "model_test = model.load_model('model_v0.1.h5')\n",
    "\n",
    "#test_loss, test_acc = model_test.evaluate(test_images, test_labels)\n",
    "#print(f'Test accuracy: {test_acc}')"
   ],
   "metadata": {
    "collapsed": false
   },
   "id": "51cd3273bfe53941"
  }
 ],
 "metadata": {
  "kernelspec": {
   "display_name": "Python 3",
   "language": "python",
   "name": "python3"
  },
  "language_info": {
   "codemirror_mode": {
    "name": "ipython",
    "version": 2
   },
   "file_extension": ".py",
   "mimetype": "text/x-python",
   "name": "python",
   "nbconvert_exporter": "python",
   "pygments_lexer": "ipython2",
   "version": "2.7.6"
  }
 },
 "nbformat": 4,
 "nbformat_minor": 5
}

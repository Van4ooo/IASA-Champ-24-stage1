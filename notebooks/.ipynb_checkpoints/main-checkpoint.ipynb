{
 "cells": [
  {
   "cell_type": "code",
   "execution_count": 29,
   "id": "initial_id",
   "metadata": {
    "collapsed": true,
    "ExecuteTime": {
     "end_time": "2024-01-27T14:47:28.291733900Z",
     "start_time": "2024-01-27T14:47:27.785958900Z"
    }
   },
   "outputs": [],
   "source": [
    "import os\n",
    "import pandas as pd\n",
    "import numpy as np\n",
    "from IPython.display import Image\n",
    "import matplotlib as plt\n",
    "import cv2"
   ]
  },
  {
   "cell_type": "code",
   "outputs": [
    {
     "data": {
      "text/plain": "Empty DataFrame\nColumns: [ID, IMG, CODE]\nIndex: []",
      "text/html": "<div>\n<style scoped>\n    .dataframe tbody tr th:only-of-type {\n        vertical-align: middle;\n    }\n\n    .dataframe tbody tr th {\n        vertical-align: top;\n    }\n\n    .dataframe thead th {\n        text-align: right;\n    }\n</style>\n<table border=\"1\" class=\"dataframe\">\n  <thead>\n    <tr style=\"text-align: right;\">\n      <th></th>\n      <th>ID</th>\n      <th>IMG</th>\n      <th>CODE</th>\n    </tr>\n  </thead>\n  <tbody>\n  </tbody>\n</table>\n</div>"
     },
     "execution_count": 30,
     "metadata": {},
     "output_type": "execute_result"
    }
   ],
   "source": [
    "df = pd.DataFrame(columns = ['ID', 'IMG', 'CODE', 'PXL_AR'])\n",
    "df"
   ],
   "metadata": {
    "collapsed": false,
    "ExecuteTime": {
     "end_time": "2024-01-27T14:47:28.568409900Z",
     "start_time": "2024-01-27T14:47:28.544804600Z"
    }
   },
   "id": "c4dc4d1a177e11fe",
   "execution_count": 30
  },
  {
   "cell_type": "code",
   "outputs": [],
   "source": [
    "categories_code = {'alert': 0,\n",
    " 'button': 1,\n",
    " 'card': 2,\n",
    " 'checkbox_checked': 3,\n",
    " 'checkbox_unchecked': 4,\n",
    " 'chip': 5,\n",
    " 'data_table': 6,\n",
    " 'dropdown_menu': 7,\n",
    " 'floating_action_button': 8,\n",
    " 'grid_list': 9,\n",
    " 'image': 10,\n",
    " 'label': 11,\n",
    " 'menu': 12,\n",
    " 'radio_button_checked': 13,\n",
    " 'radio_button_unchecked': 14,\n",
    " 'slider': 15,\n",
    " 'switch_disabled': 16,\n",
    " 'switch_enabled': 17,\n",
    " 'text_area': 18,\n",
    " 'text_field': 19,\n",
    " 'tooltip': 20}\n",
    "\n",
    "def convert_to_dataframe(folder_name):\n",
    "    for img in os.listdir(f'D:/HyperCrew_projects/IASA-Champ-24-stage1/data/raw/train/{folder_name}'):\n",
    "        img_pxl_array = np.array(cv2.imread(img, 0))\n",
    "        df.loc[len(df.index)] = [len(df.index), img, categories_code[folder_name], img_pxl_array]\n",
    "#for (i, v) in categories_code.items():\n",
    "    #convert_to_dataframe(i)\n",
    "\n",
    "print(1)"
   ],
   "metadata": {
    "collapsed": false
   },
   "id": "87160dd55a5251ad",
   "execution_count": 49
  },
  {
   "cell_type": "markdown",
   "source": [],
   "metadata": {
    "collapsed": false
   },
   "id": "88b5fa050c1597d4"
  },
  {
   "cell_type": "code",
   "outputs": [],
   "source": [
    "print(1)"
   ],
   "metadata": {
    "collapsed": false
   },
   "id": "82e3b68b766aecc0",
   "execution_count": 48
  },
  {
   "cell_type": "code",
   "outputs": [],
   "source": [],
   "metadata": {
    "collapsed": false
   },
   "id": "dd2c41a90853cfaa"
  }
 ],
 "metadata": {
  "kernelspec": {
   "display_name": "Python 3",
   "language": "python",
   "name": "python3"
  },
  "language_info": {
   "codemirror_mode": {
    "name": "ipython",
    "version": 2
   },
   "file_extension": ".py",
   "mimetype": "text/x-python",
   "name": "python",
   "nbconvert_exporter": "python",
   "pygments_lexer": "ipython2",
   "version": "2.7.6"
  }
 },
 "nbformat": 4,
 "nbformat_minor": 5
}

{
 "cells": [
  {
   "cell_type": "code",
   "execution_count": 2,
   "id": "initial_id",
   "metadata": {
    "collapsed": true,
    "ExecuteTime": {
     "end_time": "2024-01-28T21:30:57.403268700Z",
     "start_time": "2024-01-28T21:30:50.105673Z"
    }
   },
   "outputs": [
    {
     "name": "stdout",
     "output_type": "stream",
     "text": [
      "WARNING:tensorflow:From C:\\Users\\julia\\AppData\\Local\\Programs\\Python\\Python311\\Lib\\site-packages\\keras\\src\\losses.py:2976: The name tf.losses.sparse_softmax_cross_entropy is deprecated. Please use tf.compat.v1.losses.sparse_softmax_cross_entropy instead.\n"
     ]
    }
   ],
   "source": [
    "from tensorflow.keras.models import load_model\n",
    "import os\n",
    "import pandas as pd\n",
    "import numpy as np\n",
    "import cv2\n",
    "import matplotlib.pyplot as plt \n",
    "from config import *\n",
    "\n",
    "CATEGORIES_REVERSE = {v: k for k, v in CATEGORIES_CODES.items()}"
   ]
  },
  {
   "cell_type": "code",
   "outputs": [],
   "source": [
    "class PredictWithModel:\n",
    "    shape = (224, 224, 1)\n",
    "    \n",
    "    def __init__(self, version: str) -> None:\n",
    "        self.test_img_path = 'data/test'\n",
    "        self.model = load_model(f'models/model_v{version}.h5')\n",
    "        self.path = os.listdir(self.test_img_path)\n",
    "        self.images = np.empty((_s:=len(self.path), ) + self.shape, dtype='float16')\n",
    "        self.predictions = pd.DataFrame(columns=['ID', 'CATEGORY'])\n",
    "    \n",
    "    def parse_img(self, img_path: str) -> np.array:\n",
    "        img = ~cv2.imread(f\"{self.test_img_path}/{img_path}\", 0) / 255\n",
    "        return np.asarray(img, dtype='float16').reshape(self.shape)\n",
    "    \n",
    "    def predict_img(self):\n",
    "        for i, img_path in enumerate(self.path):\n",
    "            self.images[i] = self.parse_img(img_path)\n",
    "            \n",
    "        for i, p in enumerate(self.model.predict(self.images)):\n",
    "            self.predictions.loc[i] = [self.path[i], CATEGORIES_REVERSE[np.argmax(p)]]\n",
    "        self.predictions.to_csv('data/result/predictions.csv')\n",
    "            \n",
    "    @staticmethod\n",
    "    def show(img: np.array) -> None:\n",
    "        plt.imshow(img[0], cmap='gray')\n"
   ],
   "metadata": {
    "collapsed": false,
    "ExecuteTime": {
     "end_time": "2024-01-28T21:30:57.411099Z",
     "start_time": "2024-01-28T21:30:57.406429700Z"
    }
   },
   "id": "4c51dfa17ac8ac81",
   "execution_count": 3
  },
  {
   "cell_type": "code",
   "outputs": [
    {
     "name": "stdout",
     "output_type": "stream",
     "text": [
      "WARNING:tensorflow:From C:\\Users\\julia\\AppData\\Local\\Programs\\Python\\Python311\\Lib\\site-packages\\keras\\src\\backend.py:1398: The name tf.executing_eagerly_outside_functions is deprecated. Please use tf.compat.v1.executing_eagerly_outside_functions instead.\n",
      "WARNING:tensorflow:From C:\\Users\\julia\\AppData\\Local\\Programs\\Python\\Python311\\Lib\\site-packages\\keras\\src\\layers\\pooling\\max_pooling2d.py:161: The name tf.nn.max_pool is deprecated. Please use tf.nn.max_pool2d instead.\n",
      "161/161 [==============================] - 46s 283ms/step\n"
     ]
    }
   ],
   "source": [
    "model_version = '0.1'\n",
    "predict = PredictWithModel(model_version)\n",
    "predict.predict_img()"
   ],
   "metadata": {
    "collapsed": false,
    "ExecuteTime": {
     "end_time": "2024-01-28T21:32:39.318044800Z",
     "start_time": "2024-01-28T21:31:37.355979900Z"
    }
   },
   "id": "ac464e1248428e5f",
   "execution_count": 5
  }
 ],
 "metadata": {
  "kernelspec": {
   "display_name": "Python 3",
   "language": "python",
   "name": "python3"
  },
  "language_info": {
   "codemirror_mode": {
    "name": "ipython",
    "version": 2
   },
   "file_extension": ".py",
   "mimetype": "text/x-python",
   "name": "python",
   "nbconvert_exporter": "python",
   "pygments_lexer": "ipython2",
   "version": "2.7.6"
  }
 },
 "nbformat": 4,
 "nbformat_minor": 5
}

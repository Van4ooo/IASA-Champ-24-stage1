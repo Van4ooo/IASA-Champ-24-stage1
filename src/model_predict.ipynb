{
 "cells": [
  {
   "cell_type": "code",
   "execution_count": 1,
   "id": "initial_id",
   "metadata": {
    "collapsed": true,
    "ExecuteTime": {
     "end_time": "2024-01-30T15:21:43.321554700Z",
     "start_time": "2024-01-30T15:21:29.014541100Z"
    }
   },
   "outputs": [
    {
     "name": "stdout",
     "output_type": "stream",
     "text": [
      "WARNING:tensorflow:From C:\\Users\\julia\\AppData\\Local\\Programs\\Python\\Python311\\Lib\\site-packages\\keras\\src\\losses.py:2976: The name tf.losses.sparse_softmax_cross_entropy is deprecated. Please use tf.compat.v1.losses.sparse_softmax_cross_entropy instead.\n"
     ]
    }
   ],
   "source": [
    "from tensorflow.keras.models import load_model\n",
    "import os\n",
    "import pandas as pd\n",
    "import numpy as np\n",
    "import cv2\n",
    "import matplotlib.pyplot as plt \n",
    "from config import *"
   ]
  },
  {
   "cell_type": "code",
   "outputs": [],
   "source": [
    "class PredictWithModel:\n",
    "    shape = (224, 224, 1)\n",
    "    test_folder_path = 'data/test'\n",
    "    \n",
    "    def __init__(self, version: str) -> None:\n",
    "        self.model_version = version\n",
    "        self.model = load_model(f'models/model_v{version}.h5')\n",
    "        \n",
    "        self.path = os.listdir(self.test_folder_path)\n",
    "        self.images = np.empty((_s:=len(self.path), ) + self.shape, dtype='float16')\n",
    "        \n",
    "        self.predictions = pd.DataFrame(columns=['ID', 'CATEGORY'])\n",
    "    \n",
    "    def parse_img(self, img_path: str) -> np.array:\n",
    "        img = ~cv2.imread(f\"{self.test_folder_path}/{img_path}\", 0) / 255\n",
    "        return np.asarray(img, dtype='float16').reshape(self.shape)\n",
    "    \n",
    "    def img_predict(self):\n",
    "        print(f'Model version: {self.model_version}\\n'\n",
    "              f'Start predicting...')\n",
    "        for i, img_path in enumerate(self.path):\n",
    "            self.images[i] = self.parse_img(img_path)\n",
    "            \n",
    "        for i, p in enumerate(self.model.predict(self.images)):\n",
    "            self.predictions.loc[i] = [self.path[i], CATEGORIES_REVERSE[np.argmax(p)]]\n",
    "        print(\"[+] Done\")\n",
    "            \n",
    "    def save(self):\n",
    "        self.predictions.to_csv('data/result/predictions.csv', index=False)\n",
    "\n",
    "    def img_predict_show(self, index: int) -> None:\n",
    "        plt.title(f\"Prediction: {self.predictions['CATEGORY'][index]}\")\n",
    "        plt.imshow(self.images[index], cmap='gray')"
   ],
   "metadata": {
    "collapsed": false,
    "ExecuteTime": {
     "end_time": "2024-01-30T15:21:43.336843900Z",
     "start_time": "2024-01-30T15:21:43.329806200Z"
    }
   },
   "id": "4c51dfa17ac8ac81",
   "execution_count": 2
  },
  {
   "cell_type": "code",
   "outputs": [
    {
     "name": "stdout",
     "output_type": "stream",
     "text": [
      "WARNING:tensorflow:From C:\\Users\\julia\\AppData\\Local\\Programs\\Python\\Python311\\Lib\\site-packages\\keras\\src\\backend.py:1398: The name tf.executing_eagerly_outside_functions is deprecated. Please use tf.compat.v1.executing_eagerly_outside_functions instead.\n",
      "WARNING:tensorflow:From C:\\Users\\julia\\AppData\\Local\\Programs\\Python\\Python311\\Lib\\site-packages\\keras\\src\\layers\\pooling\\max_pooling2d.py:161: The name tf.nn.max_pool is deprecated. Please use tf.nn.max_pool2d instead.\n",
      "Model version: 0.2\n",
      "Start predicting...\n",
      "161/161 [==============================] - 19s 118ms/step\n",
      "[+] Done\n"
     ]
    }
   ],
   "source": [
    "#Use the last version\n",
    "model_version = os.listdir('models')[-1][7:-3]\n",
    "predictions = PredictWithModel(model_version)\n",
    "predictions.img_predict()\n",
    "#predictions.save()"
   ],
   "metadata": {
    "collapsed": false,
    "ExecuteTime": {
     "end_time": "2024-01-30T15:22:15.129142Z",
     "start_time": "2024-01-30T15:21:43.339716900Z"
    }
   },
   "id": "ac464e1248428e5f",
   "execution_count": 3
  },
  {
   "cell_type": "code",
   "outputs": [],
   "source": [
    "#predict.img_predict_show(300)"
   ],
   "metadata": {
    "collapsed": false,
    "ExecuteTime": {
     "end_time": "2024-01-30T15:22:15.135147700Z",
     "start_time": "2024-01-30T15:22:15.129822100Z"
    }
   },
   "id": "119951f39fb9b078",
   "execution_count": 4
  }
 ],
 "metadata": {
  "kernelspec": {
   "display_name": "Python 3",
   "language": "python",
   "name": "python3"
  },
  "language_info": {
   "codemirror_mode": {
    "name": "ipython",
    "version": 2
   },
   "file_extension": ".py",
   "mimetype": "text/x-python",
   "name": "python",
   "nbconvert_exporter": "python",
   "pygments_lexer": "ipython2",
   "version": "2.7.6"
  }
 },
 "nbformat": 4,
 "nbformat_minor": 5
}

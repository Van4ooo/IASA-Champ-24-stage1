{
 "cells": [
  {
   "cell_type": "code",
   "execution_count": 90,
   "id": "initial_id",
   "metadata": {
    "collapsed": true,
    "ExecuteTime": {
     "end_time": "2024-01-28T17:55:13.629701Z",
     "start_time": "2024-01-28T17:55:13.624480600Z"
    }
   },
   "outputs": [],
   "source": [
    "from tensorflow.keras.models import load_model\n",
    "import os\n",
    "import pandas as pd\n",
    "import numpy as np\n",
    "import cv2\n",
    "import matplotlib.pyplot as plt \n",
    "\n",
    "CATEGORIES_REV = {\n",
    "    0: 'alert', 1: 'button', 2: 'card', 3:'checkbox_checked',\n",
    "    4: 'checkbox_unchecked', 5: 'chip', 6: 'data_table', 7:'dropdown_menu',\n",
    "    8: 'floating_action_button', 9: 'grid_list', 10: 'image', 11: 'label', 12: 'menu',\n",
    "    13: 'radio_button_checked', 14: 'radio_button_unchecked', 15: 'slider', 16: 'switch_disabled',\n",
    "    17: 'switch_enabled', 18: 'text_area', 19: 'text_field', 20: 'tooltip'\n",
    "}"
   ]
  },
  {
   "cell_type": "code",
   "outputs": [],
   "source": [
    "class PredictWithModel:\n",
    "    shape = (224, 224, 1)\n",
    "    \n",
    "    def __init__(self, _model_path: str, _test_dir: str='data/test') -> None:\n",
    "        self.model = load_model(_model_path)\n",
    "        \n",
    "        self.paths = os.listdir(_test_dir)\n",
    "        self.images = np.empty((_s:=len(self.paths), ) + self.shape, dtype='float16')\n",
    "        \n",
    "        self.test_dir = _test_dir\n",
    "        self.predictions = pd.DataFrame(columns=['ID', 'Target'])\n",
    "        \n",
    "        self.__index, self.size = 0, _s \n",
    "    \n",
    "    def test_img_from_dir(self) -> None:\n",
    "        for img_path in self.paths:\n",
    "            self.images[self.__index] = self._parse_img(img_path)\n",
    "            self.__index += 1\n",
    "            \n",
    "            #print(f\"[{self.__index}/{self.images.shape[0]}] {img_path}\")\n",
    "            \n",
    "    @staticmethod\n",
    "    def show(img: np.array) -> None:\n",
    "        plt.imshow(img[0], cmap='gray')\n",
    "    \n",
    "    def _parse_img(self, _img_path: str) -> np.array:\n",
    "        img = ~cv2.imread(f\"{self.test_dir}/{_img_path}\", 0) / 255\n",
    "        \n",
    "        return np.asarray(img, dtype='float16').reshape(self.shape)\n",
    "    \n",
    "    def predict_img(self):\n",
    "        self.test_img_from_dir()\n",
    "        \n",
    "        for i, p in enumerate(self.model.predict(self.images)):\n",
    "            self.predictions.loc[i] = [self.paths[i], CATEGORIES_REV[np.argmax(p)]]\n",
    "        \n",
    "        self.predictions.to_csv('data/result/predictions.csv', index=False)\n"
   ],
   "metadata": {
    "collapsed": false,
    "ExecuteTime": {
     "end_time": "2024-01-28T17:59:02.373407300Z",
     "start_time": "2024-01-28T17:59:02.366346700Z"
    }
   },
   "id": "4c51dfa17ac8ac81",
   "execution_count": 93
  },
  {
   "cell_type": "code",
   "outputs": [
    {
     "name": "stdout",
     "output_type": "stream",
     "text": [
      "161/161 [==============================] - 16s 100ms/step\n"
     ]
    }
   ],
   "source": [
    "pwm = PredictWithModel('models/model_v0.2.1.h5')\n",
    "\n",
    "pwm.predict_img()"
   ],
   "metadata": {
    "collapsed": false,
    "ExecuteTime": {
     "end_time": "2024-01-28T17:59:25.730985Z",
     "start_time": "2024-01-28T17:59:03.248243200Z"
    }
   },
   "id": "ac464e1248428e5f",
   "execution_count": 94
  },
  {
   "cell_type": "code",
   "outputs": [],
   "source": [],
   "metadata": {
    "collapsed": false
   },
   "id": "a8d2b93106e5667b"
  }
 ],
 "metadata": {
  "kernelspec": {
   "display_name": "Python 3",
   "language": "python",
   "name": "python3"
  },
  "language_info": {
   "codemirror_mode": {
    "name": "ipython",
    "version": 2
   },
   "file_extension": ".py",
   "mimetype": "text/x-python",
   "name": "python",
   "nbconvert_exporter": "python",
   "pygments_lexer": "ipython2",
   "version": "2.7.6"
  }
 },
 "nbformat": 4,
 "nbformat_minor": 5
}

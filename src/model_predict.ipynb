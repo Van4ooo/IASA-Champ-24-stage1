{
 "cells": [
  {
   "cell_type": "code",
   "execution_count": 1,
   "id": "initial_id",
   "metadata": {
    "collapsed": true,
    "ExecuteTime": {
     "end_time": "2024-02-01T09:53:11.603819800Z",
     "start_time": "2024-02-01T09:53:06.973925100Z"
    }
   },
   "outputs": [
    {
     "name": "stdout",
     "output_type": "stream",
     "text": [
      "WARNING:tensorflow:From D:\\it\\ML\\IASA-Champ-24-stage1\\.venv\\Lib\\site-packages\\keras\\src\\losses.py:2976: The name tf.losses.sparse_softmax_cross_entropy is deprecated. Please use tf.compat.v1.losses.sparse_softmax_cross_entropy instead.\n"
     ]
    }
   ],
   "source": [
    "from tensorflow.keras.models import load_model\n",
    "import os\n",
    "import pandas as pd\n",
    "import numpy as np\n",
    "import cv2\n",
    "import matplotlib.pyplot as plt \n",
    "from config import *\n",
    "\n",
    "CATEGORIES_REVERSE = {v: k for k, v in CATEGORIES_CODES.items()}"
   ]
  },
  {
   "cell_type": "code",
   "outputs": [],
   "source": [
    "class PredictWithModel:\n",
    "    shape = (224, 224, 1)\n",
    "    \n",
    "    def __init__(self, version: str) -> None:\n",
    "        self.test_img_path = 'data/test'\n",
    "        self.model = load_model(f'models/model_v{version}.h5')\n",
    "        self.path = os.listdir(self.test_img_path)\n",
    "        self.images = np.empty((_s:=len(self.path), ) + self.shape, dtype='float16')\n",
    "        self.predictions = pd.DataFrame(columns=['ID', 'Target'])\n",
    "    \n",
    "    def parse_img(self, img_path: str) -> np.array:\n",
    "        img = ~cv2.imread(f\"{self.test_img_path}/{img_path}\", 0) / 255\n",
    "        return np.asarray(img, dtype='float16').reshape(self.shape)\n",
    "    \n",
    "    def predict_img(self):\n",
    "        for i, img_path in enumerate(self.path):\n",
    "            self.images[i] = self.parse_img(img_path)\n",
    "            \n",
    "        for i, p in enumerate(self.model.predict(self.images)):\n",
    "            self.predictions.loc[i] = [self.path[i], CATEGORIES_REVERSE[np.argmax(p)]]\n",
    "        self.predictions.to_csv('data/result/predictions.csv', index=False)\n",
    "            \n",
    "    @staticmethod\n",
    "    def show(img: np.array) -> None:\n",
    "        plt.imshow(img[0], cmap='gray')\n"
   ],
   "metadata": {
    "collapsed": false,
    "ExecuteTime": {
     "end_time": "2024-02-01T09:53:15.983831600Z",
     "start_time": "2024-02-01T09:53:15.973239500Z"
    }
   },
   "id": "4c51dfa17ac8ac81",
   "execution_count": 2
  },
  {
   "cell_type": "code",
   "outputs": [
    {
     "name": "stdout",
     "output_type": "stream",
     "text": [
      "161/161 [==============================] - 11s 65ms/step\n"
     ]
    }
   ],
   "source": [
    "#model_version = '0.1.19' #78.9\n",
    "#model_version = '0.2.1' #80.2\n",
    "model_version = '0.2.2'\n",
    "predict = PredictWithModel(model_version)\n",
    "predict.predict_img()"
   ],
   "metadata": {
    "collapsed": false,
    "ExecuteTime": {
     "end_time": "2024-02-01T13:16:03.732835200Z",
     "start_time": "2024-02-01T13:15:41.744996500Z"
    }
   },
   "id": "ac464e1248428e5f",
   "execution_count": 7
  },
  {
   "cell_type": "code",
   "outputs": [],
   "source": [],
   "metadata": {
    "collapsed": false,
    "ExecuteTime": {
     "end_time": "2024-01-31T16:07:19.315436300Z",
     "start_time": "2024-01-31T16:07:19.313165800Z"
    }
   },
   "id": "6b3b3a2312c311fe",
   "execution_count": 3
  }
 ],
 "metadata": {
  "kernelspec": {
   "display_name": "Python 3",
   "language": "python",
   "name": "python3"
  },
  "language_info": {
   "codemirror_mode": {
    "name": "ipython",
    "version": 2
   },
   "file_extension": ".py",
   "mimetype": "text/x-python",
   "name": "python",
   "nbconvert_exporter": "python",
   "pygments_lexer": "ipython2",
   "version": "2.7.6"
  }
 },
 "nbformat": 4,
 "nbformat_minor": 5
}

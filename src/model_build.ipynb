{
 "cells": [
  {
   "cell_type": "code",
   "outputs": [],
   "source": [
    "import pandas as pd\n",
    "import numpy as np\n",
    "import matplotlib.pyplot as plt\n",
    "import cv2\n",
    "import os\n",
    "from skimage import morphology\n",
    "from tensorflow.keras.utils import to_categorical\n",
    "from tensorflow.keras import layers, models\n",
    "from tensorflow.keras.models import load_model\n",
    "from config import *\n",
    "\n",
    "CATEGORIES_REVERSE = {v: k for k, v in CATEGORIES_CODES.items()}"
   ],
   "metadata": {
    "collapsed": false
   },
   "id": "9ac05d64269ecbb5"
  },
  {
   "cell_type": "code",
   "outputs": [],
   "source": [
    "class DataLoader:\n",
    "    __slots__ = ('images', '__index', 'labels', '_size', 'data')\n",
    "    shape = (224, 224, 1)\n",
    "    \n",
    "    def __init__(self, _path: str) -> None:\n",
    "        self.data = pd.read_csv(_path)\n",
    "        self.__index, self._size = 0, self.data.shape[0]\n",
    "        \n",
    "        self.images = np.empty((self._size,) + self.shape, dtype='float16')\n",
    "        self.labels = np.empty(self._size, dtype='uint8')\n",
    "\n",
    "    def load_data(self) -> None:\n",
    "        for _, _path, _categories in self.data.values:\n",
    "            self.add_image(_path, _categories)\n",
    "\n",
    "    def add_image(self, _path: str, category: int) -> None:\n",
    "        image_path = f\"data/train/{CATEGORIES_REVERSE[category]}/{_path}\"\n",
    "        img = cv2.imread(image_path, 0) / 255\n",
    "        \n",
    "        img.reshape(224, 224)\n",
    "        img = morphology.skeletonize(img < 0.5)\n",
    "        \n",
    "        self.images[self.__index] = np.asarray(img, dtype='float16').reshape(self.shape)\n",
    "        self.labels[self.__index] = category\n",
    "        self.__index += 1\n",
    "\n",
    "        print(f\"[+] Progress: {self.__index}/{self._size}\", end='\\r')\n",
    "        \n",
    "        if self.__index == self._size:\n",
    "            self.labels = to_categorical(self.labels)\n",
    "            print(f\"\\n[+] DONE {self._size}/{self._size}\")\n",
    "            \n",
    "    def show_image(self, index: int) -> None:\n",
    "        plt.imshow(self.images[index], cmap='gray')"
   ],
   "metadata": {
    "collapsed": false
   },
   "id": "99110fb4a6c06b40"
  },
  {
   "cell_type": "code",
   "outputs": [],
   "source": [
    "train_set_path = 'data/processed/train_set.csv'\n",
    "train_data = DataLoader(train_set_path)\n",
    "train_data.load_data()\n",
    "train_data.show_image(302)"
   ],
   "metadata": {
    "collapsed": false
   },
   "id": "bf41b1a08fd37989"
  },
  {
   "cell_type": "code",
   "outputs": [],
   "source": [
    "class SketchClassificatorModel:\n",
    "    __slots__ = ('_data', '_shape', 'num_classes', 'model', 'version')\n",
    "    \n",
    "    def __init__(self, data, _version: str) -> None:\n",
    "        self._data = data\n",
    "        self._shape = data.shape\n",
    "        self.num_classes = len(CATEGORIES_CODES)\n",
    "        self.model = models.Sequential()\n",
    "        self.version = _version\n",
    "\n",
    "    def build_model(self) -> None:\n",
    "        activation, final_activation = 'relu', 'softmax'\n",
    "        kernel_size, pool_size = (6, 6), (4, 4)\n",
    "        \n",
    "        self.model.add(layers.Conv2D(32, kernel_size, activation=activation, input_shape=self._shape))\n",
    "        self.model.add(layers.MaxPooling2D(pool_size=pool_size))\n",
    "        self.model.add(layers.Conv2D(64, kernel_size=kernel_size, activation=activation))\n",
    "        self.model.add(layers.Dropout(0.4))\n",
    "        self.model.add(layers.MaxPooling2D(pool_size=pool_size))\n",
    "        self.model.add(layers.Conv2D(128, kernel_size=kernel_size, activation=activation))\n",
    "        self.model.add(layers.Flatten())\n",
    "        self.model.add(layers.Dense(128, activation=activation))\n",
    "        self.model.add(layers.Dropout(0.4))\n",
    "        self.model.add(layers.Dense(self.num_classes, activation=final_activation))\n",
    "        \n",
    "        self.model.compile(optimizer='adam', loss='categorical_crossentropy', metrics=['accuracy'])\n",
    "    \n",
    "    def train(self) -> None:\n",
    "        self.model.fit(self._data.images, self._data.labels, epochs=12, batch_size=64, validation_split=0.05)\n",
    "    \n",
    "    def save(self) -> None:\n",
    "        self.model.save(f'models/model_v{self.version}.h5')"
   ],
   "metadata": {
    "collapsed": false
   },
   "id": "f730407c8700b4d1"
  },
  {
   "cell_type": "code",
   "outputs": [],
   "source": [
    "test_set_path = 'data/processed/test_set.csv'\n",
    "test_data = DataLoader(test_set_path)\n",
    "test_data.load_data()\n",
    "test_data.show_image(300)"
   ],
   "metadata": {
    "collapsed": false
   },
   "id": "952456c44708da0a"
  },
  {
   "cell_type": "code",
   "outputs": [],
   "source": [
    "test_data.show_image(345)"
   ],
   "metadata": {
    "collapsed": false
   },
   "id": "dae2882c2e720c85"
  },
  {
   "cell_type": "code",
   "outputs": [],
   "source": [
    "new_model_version = '0.1.7'   \n",
    "sketch_model = SketchClassificatorModel(train_data, new_model_version)\n",
    "sketch_model.build_model()\n",
    "sketch_model.train()\n",
    "sketch_model.save()\n",
    "\n",
    "del sketch_model"
   ],
   "metadata": {
    "collapsed": false
   },
   "id": "818d25cad30a31f5"
  },
  {
   "cell_type": "code",
   "outputs": [],
   "source": [
    "for models in os.listdir('models'):\n",
    "    model_test = load_model(f'models/{models}')\n",
    "    print(f'Model version: {models[6:-3]}')\n",
    "    test_loss, test_accuracy = model_test.evaluate(test_data.images, test_data.labels)"
   ],
   "metadata": {
    "collapsed": false
   },
   "id": "2c0e13dd5b8e68cf"
  },
  {
   "cell_type": "code",
   "outputs": [],
   "source": [],
   "metadata": {
    "collapsed": false
   },
   "id": "19d99d3df3f37b04"
  }
 ],
 "metadata": {
  "kernelspec": {
   "display_name": "Python 3 (ipykernel)",
   "language": "python",
   "name": "python3"
  },
  "language_info": {
   "codemirror_mode": {
    "name": "ipython",
    "version": 3
   },
   "file_extension": ".py",
   "mimetype": "text/x-python",
   "name": "python",
   "nbconvert_exporter": "python",
   "pygments_lexer": "ipython3",
   "version": "3.12.1"
  }
 },
 "nbformat": 4,
 "nbformat_minor": 5
}

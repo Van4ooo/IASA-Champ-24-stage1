{
 "cells": [
  {
   "cell_type": "code",
   "execution_count": 5,
   "id": "initial_id",
   "metadata": {
    "ExecuteTime": {
     "end_time": "2024-01-27T17:10:57.232584800Z",
     "start_time": "2024-01-27T17:10:57.224327700Z"
    }
   },
   "outputs": [],
   "source": [
    "import os\n",
    "import pandas as pd\n",
    "import numpy as np\n",
    "from IPython.display import Image\n",
    "import matplotlib as plt\n",
    "import cv2\n",
    "from config import CATEGORIES"
   ]
  },
  {
   "cell_type": "code",
   "outputs": [],
   "source": [
    "train_test_dataframe = pd.DataFrame(columns=['IMG', 'CODE'])\n",
    "\n",
    "def images_to_csv(category):\n",
    "    category_dataframe = pd.DataFrame(columns=['IMG', 'CODE'])\n",
    "    for img in os.listdir(f'data/train/{category}'):\n",
    "        category_dataframe.loc[len(category_dataframe.index)] = [img, CATEGORIES[category]]\n",
    "        train_test_dataframe.loc[len(category_dataframe.index)] = [img, CATEGORIES[category]]\n",
    "        category_dataframe.to_csv(f'data/processed/categories/{category}.csv')\n",
    "\n",
    "for (category, code) in CATEGORIES.items():\n",
    "    images_to_csv(category)\n",
    "train_test_dataframe.to_csv(f'data/processed/train_test_data.csv')"
   ],
   "metadata": {
    "collapsed": false,
    "ExecuteTime": {
     "end_time": "2024-01-27T17:11:27.635483400Z",
     "start_time": "2024-01-27T17:10:57.232584800Z"
    }
   },
   "id": "112bfa254252c6cd",
   "execution_count": 6
  },
  {
   "cell_type": "code",
   "outputs": [],
   "source": [],
   "metadata": {
    "collapsed": false,
    "ExecuteTime": {
     "end_time": "2024-01-27T17:11:27.638159500Z",
     "start_time": "2024-01-27T17:11:27.636063400Z"
    }
   },
   "id": "86732e62e369a8c",
   "execution_count": 6
  }
 ],
 "metadata": {
  "kernelspec": {
   "display_name": "Python 3 (ipykernel)",
   "language": "python",
   "name": "python3"
  },
  "language_info": {
   "codemirror_mode": {
    "name": "ipython",
    "version": 3
   },
   "file_extension": ".py",
   "mimetype": "text/x-python",
   "name": "python",
   "nbconvert_exporter": "python",
   "pygments_lexer": "ipython3",
   "version": "3.12.1"
  }
 },
 "nbformat": 4,
 "nbformat_minor": 5
}

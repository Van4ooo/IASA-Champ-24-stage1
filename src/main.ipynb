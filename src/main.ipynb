{
 "cells": [
  {
   "cell_type": "code",
   "outputs": [],
   "source": [
    "import pandas as pd\n",
    "import os\n",
    "from sklearn.model_selection import StratifiedShuffleSplit\n",
    "from config import *"
   ],
   "metadata": {
    "collapsed": false,
    "ExecuteTime": {
     "start_time": "2024-01-29T22:02:24.741001500Z"
    }
   },
   "id": "initial_id",
   "execution_count": 0
  },
  {
   "cell_type": "code",
   "outputs": [],
   "source": [
    "entire_categories_df = pd.DataFrame(columns=['IMG', 'CODE'])\n",
    "\n",
    "save_entire_df, save_categories_df = False, False\n",
    "for (categories, code) in CATEGORIES_CODES.items():\n",
    "    category_df = pd.DataFrame(columns=['IMG', 'CODE'])\n",
    "    for img in os.listdir(f'data/train/{categories}'):\n",
    "        category_df.loc[category_df.shape[0]] = [img, code]\n",
    "        entire_categories_df.loc[entire_categories_df.shape[0]] = [img, code]\n",
    "        if save_categories_df:\n",
    "            category_df.to_csv(f'data/processed/categories/{categories}.csv') \n",
    "\n",
    "if save_entire_df:\n",
    "    entire_categories_df.to_csv('data/processed/train_test_data.csv')"
   ],
   "metadata": {
    "collapsed": false,
    "ExecuteTime": {
     "end_time": "2024-01-28T21:38:10.005780900Z",
     "start_time": "2024-01-28T21:37:48.899295100Z"
    }
   },
   "id": "112bfa254252c6cd",
   "execution_count": 6
  },
  {
   "cell_type": "code",
   "outputs": [],
   "source": [
    "train_set = pd.DataFrame()\n",
    "test_set = pd.DataFrame()\n",
    "save_train_test_sets = False\n",
    "\n",
    "split = StratifiedShuffleSplit(n_splits=1, test_size=0.05)\n",
    "for train_dataframe, test_dataframe in split.split(entire_categories_df, entire_categories_df[[\"CODE\"]]):\n",
    "    train_set = entire_categories_df.loc[train_dataframe]\n",
    "    test_set = entire_categories_df.loc[test_dataframe]\n",
    "    \n",
    "if save_train_test_sets:\n",
    "    train_set.to_csv('data/processed/train_set.csv')\n",
    "    test_set.to_csv('data/processed/test_set.csv')"
   ],
   "metadata": {
    "collapsed": false,
    "ExecuteTime": {
     "end_time": "2024-01-28T21:38:10.052104500Z",
     "start_time": "2024-01-28T21:38:10.007029Z"
    }
   },
   "id": "802815cd6a86d56e",
   "execution_count": 7
  },
  {
   "cell_type": "code",
   "outputs": [
    {
     "name": "stdout",
     "output_type": "stream",
     "text": [
      "<class 'pandas.core.frame.DataFrame'>\n",
      "Index: 14629 entries, 13400 to 14130\n",
      "Data columns (total 2 columns):\n",
      " #   Column  Non-Null Count  Dtype \n",
      "---  ------  --------------  ----- \n",
      " 0   IMG     14629 non-null  object\n",
      " 1   CODE    14629 non-null  int64 \n",
      "dtypes: int64(1), object(1)\n",
      "memory usage: 342.9+ KB\n"
     ]
    }
   ],
   "source": [
    "train_set.info()"
   ],
   "metadata": {
    "collapsed": false,
    "ExecuteTime": {
     "end_time": "2024-01-28T21:38:10.062794600Z",
     "start_time": "2024-01-28T21:38:10.052104500Z"
    }
   },
   "id": "8f7323682eac7c7d",
   "execution_count": 8
  }
 ],
 "metadata": {
  "kernelspec": {
   "display_name": "Python 3 (ipykernel)",
   "language": "python",
   "name": "python3"
  },
  "language_info": {
   "codemirror_mode": {
    "name": "ipython",
    "version": 3
   },
   "file_extension": ".py",
   "mimetype": "text/x-python",
   "name": "python",
   "nbconvert_exporter": "python",
   "pygments_lexer": "ipython3",
   "version": "3.12.1"
  }
 },
 "nbformat": 4,
 "nbformat_minor": 5
}

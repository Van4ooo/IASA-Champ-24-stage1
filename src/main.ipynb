{
 "cells": [
  {
   "cell_type": "code",
   "execution_count": 6,
   "id": "initial_id",
   "metadata": {
    "ExecuteTime": {
     "end_time": "2024-01-27T22:10:17.882481600Z",
     "start_time": "2024-01-27T22:10:17.873925800Z"
    }
   },
   "outputs": [],
   "source": [
    "from sklearn.model_selection import StratifiedShuffleSplit\n",
    "import pandas as pd\n",
    "import numpy as np\n",
    "import os\n",
    "from config import *"
   ]
  },
  {
   "cell_type": "code",
   "outputs": [],
   "source": [
    "#Dataframe for all data in \"train\" folder\n",
    "train_test_dataframe = pd.DataFrame(columns=['IMG', 'CODE'])\n",
    "\n",
    "#Convert all data to csv files\n",
    "def data_to_csv(category):\n",
    "    category_dataframe = pd.DataFrame(columns=['IMG', 'CODE'])\n",
    "    for img in os.listdir(f'data/train/{category}'):\n",
    "        category_dataframe.loc[category_dataframe.shape[0]] = [img, CATEGORIES_CODES[category]]\n",
    "        train_test_dataframe.loc[train_test_dataframe.shape[0]] = [img, CATEGORIES_CODES[category]]\n",
    "        #category_dataframe.to_csv(f'data/processed/categories/{category}.csv') \n",
    "\n",
    "for (categories, code) in CATEGORIES_CODES.items():\n",
    "    data_to_csv(categories)\n",
    "\n",
    "#train_test_dataframe.to_csv('data/processed/train_test_data.csv')"
   ],
   "metadata": {
    "collapsed": false,
    "ExecuteTime": {
     "end_time": "2024-01-27T22:05:01.579302600Z",
     "start_time": "2024-01-27T22:04:40.914080600Z"
    }
   },
   "id": "112bfa254252c6cd",
   "execution_count": 2
  },
  {
   "cell_type": "code",
   "outputs": [],
   "source": [
    "#Splitting data between train and test sets\n",
    "train_set = pd.DataFrame()\n",
    "test_set = pd.DataFrame()\n",
    "split = StratifiedShuffleSplit(n_splits=1, test_size=0.05)\n",
    "for train_dataframe, test_dataframe in split.split(train_test_dataframe, train_test_dataframe[[\"CODE\"]]):\n",
    "    train_set = train_test_dataframe.loc[train_dataframe]\n",
    "    test_set = train_test_dataframe.loc[test_dataframe]\n",
    "    \n",
    "#Saving train and test sets\n",
    "# train_set.to_csv('data/processed/train_set.csv')\n",
    "# test_set.to_csv('data/processed/test_set.csv')"
   ],
   "metadata": {
    "collapsed": false,
    "ExecuteTime": {
     "end_time": "2024-01-27T22:05:01.659855500Z",
     "start_time": "2024-01-27T22:05:01.581743Z"
    }
   },
   "id": "802815cd6a86d56e",
   "execution_count": 3
  },
  {
   "cell_type": "code",
   "outputs": [
    {
     "name": "stdout",
     "output_type": "stream",
     "text": [
      "<class 'pandas.core.frame.DataFrame'>\n",
      "Index: 14629 entries, 8997 to 1957\n",
      "Data columns (total 2 columns):\n",
      " #   Column  Non-Null Count  Dtype \n",
      "---  ------  --------------  ----- \n",
      " 0   IMG     14629 non-null  object\n",
      " 1   CODE    14629 non-null  int64 \n",
      "dtypes: int64(1), object(1)\n",
      "memory usage: 342.9+ KB\n"
     ]
    }
   ],
   "source": [
    "train_set.info()"
   ],
   "metadata": {
    "collapsed": false,
    "ExecuteTime": {
     "end_time": "2024-01-27T22:05:01.671399400Z",
     "start_time": "2024-01-27T22:05:01.662089700Z"
    }
   },
   "id": "8f7323682eac7c7d",
   "execution_count": 4
  },
  {
   "cell_type": "code",
   "outputs": [],
   "source": [
    "prediction_dataframe = pd.DataFrame(columns=['filename', 'predicted_class'])\n",
    "for img in os.listdir('data/test'):\n",
    "    prediction_dataframe.loc[prediction_dataframe.shape[0]] = [img, 0]\n",
    "prediction_dataframe.to_csv('data/result/predictions.csv')"
   ],
   "metadata": {
    "collapsed": false,
    "ExecuteTime": {
     "end_time": "2024-01-27T22:22:42.791081500Z",
     "start_time": "2024-01-27T22:22:39.425862900Z"
    }
   },
   "id": "b299c9b3342f560d",
   "execution_count": 10
  },
  {
   "cell_type": "code",
   "outputs": [],
   "source": [],
   "metadata": {
    "collapsed": false
   },
   "id": "7854e9e766940fb9"
  }
 ],
 "metadata": {
  "kernelspec": {
   "display_name": "Python 3 (ipykernel)",
   "language": "python",
   "name": "python3"
  },
  "language_info": {
   "codemirror_mode": {
    "name": "ipython",
    "version": 3
   },
   "file_extension": ".py",
   "mimetype": "text/x-python",
   "name": "python",
   "nbconvert_exporter": "python",
   "pygments_lexer": "ipython3",
   "version": "3.12.1"
  }
 },
 "nbformat": 4,
 "nbformat_minor": 5
}

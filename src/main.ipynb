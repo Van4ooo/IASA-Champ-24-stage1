{
 "cells": [
  {
   "cell_type": "code",
   "execution_count": 40,
   "id": "initial_id",
   "metadata": {
    "ExecuteTime": {
     "end_time": "2024-01-27T17:58:14.839162Z",
     "start_time": "2024-01-27T17:58:14.830485100Z"
    }
   },
   "outputs": [],
   "source": [
    "import pandas as pd\n",
    "import numpy as np\n",
    "import cv2\n",
    "import os\n",
    "\n",
    "from sklearn.model_selection import StratifiedShuffleSplit\n",
    "\n",
    "from config import CATEGORIES"
   ]
  },
  {
   "cell_type": "code",
   "outputs": [],
   "source": [
    "train_test_dataframe = pd.DataFrame(columns=['IMG', 'CODE'])\n",
    "\n",
    "def images_to_csv(category):\n",
    "    category_dataframe = pd.DataFrame(columns=['IMG', 'CODE'])\n",
    "    for img in os.listdir(f'data/train/{category}'):\n",
    "        category_dataframe.loc[len(category_dataframe.index)] = [img, CATEGORIES[category]]\n",
    "        train_test_dataframe.loc[len(train_test_dataframe.index)] = [img, CATEGORIES[category]]\n",
    "        # category_dataframe.to_csv(f'data/processed/categories/{category}.csv')\n",
    "\n",
    "for (category, code) in CATEGORIES.items():\n",
    "    images_to_csv(category)\n",
    "#train_test_dataframe.to_csv(f'data/processed/train_test_data.csv')"
   ],
   "metadata": {
    "collapsed": false,
    "ExecuteTime": {
     "end_time": "2024-01-27T17:58:33.488137500Z",
     "start_time": "2024-01-27T17:58:14.840174100Z"
    }
   },
   "id": "112bfa254252c6cd",
   "execution_count": 41
  },
  {
   "cell_type": "code",
   "outputs": [],
   "source": [
    "def image_to_numpy_array(img_name, category_code):\n",
    "    image = cv2.imread(f'data/train/{list(CATEGORIES)[category_code]}/{img_name}', 0)\n",
    "    return np.array(image).reshape(image.shape[0]*image.shape[1],)"
   ],
   "metadata": {
    "collapsed": false,
    "ExecuteTime": {
     "end_time": "2024-01-27T17:58:33.499123400Z",
     "start_time": "2024-01-27T17:58:33.489142400Z"
    }
   },
   "id": "26a8bbe7e9e885ec",
   "execution_count": 42
  },
  {
   "cell_type": "code",
   "outputs": [],
   "source": [
    "train_set = pd.DataFrame()\n",
    "test_set = pd.DataFrame()\n",
    "split = StratifiedShuffleSplit(n_splits=1, test_size=0.05)\n",
    "for train_dataframe, test_dataframe in split.split(train_test_dataframe, train_test_dataframe[[\"CODE\"]]):\n",
    "    train_set = train_test_dataframe.loc[train_dataframe]\n",
    "    test_set = train_test_dataframe.loc[test_dataframe]\n",
    "train_set.to_csv(f'data/processed/train_set.csv')\n",
    "test_set.to_csv(f'data/processed/test_set.csv')"
   ],
   "metadata": {
    "collapsed": false,
    "ExecuteTime": {
     "end_time": "2024-01-27T17:58:33.616948900Z",
     "start_time": "2024-01-27T17:58:33.498528200Z"
    }
   },
   "id": "802815cd6a86d56e",
   "execution_count": 43
  },
  {
   "cell_type": "code",
   "outputs": [],
   "source": [],
   "metadata": {
    "collapsed": false,
    "ExecuteTime": {
     "end_time": "2024-01-27T17:58:33.626809100Z",
     "start_time": "2024-01-27T17:58:33.619942600Z"
    }
   },
   "id": "8f7323682eac7c7d",
   "execution_count": 43
  }
 ],
 "metadata": {
  "kernelspec": {
   "display_name": "Python 3 (ipykernel)",
   "language": "python",
   "name": "python3"
  },
  "language_info": {
   "codemirror_mode": {
    "name": "ipython",
    "version": 3
   },
   "file_extension": ".py",
   "mimetype": "text/x-python",
   "name": "python",
   "nbconvert_exporter": "python",
   "pygments_lexer": "ipython3",
   "version": "3.12.1"
  }
 },
 "nbformat": 4,
 "nbformat_minor": 5
}
